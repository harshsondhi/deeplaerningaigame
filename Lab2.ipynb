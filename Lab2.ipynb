{
 "cells": [
  {
   "cell_type": "code",
   "execution_count": 1,
   "id": "81de1162",
   "metadata": {
    "height": 487
   },
   "outputs": [],
   "source": [
    "import gradio as gr\n",
    "import os\n",
    "demo =None\n",
    "\n",
    "def start_game(main_loop, share=False):\n",
    "    global demo\n",
    "    \n",
    "    if demo is not None:\n",
    "        demo.close()\n",
    "    \n",
    "    demo = gr.ChatInterface(\n",
    "        main_loop,\n",
    "        chatbot=gr.Chatbot(height=250,placeholder=\"Type 'styart game' to begin\"),\n",
    "        textbox=gr.Textbox(placeholder=\"What do you do next?\", container=False, scale=7),\n",
    "        title=\"AI RPG\",\n",
    "        theme=\"soft\",\n",
    "        examples=[\"Look around\",\"Continue the story\"],\n",
    "        cache_examples=False,\n",
    "        retry_btn=\"Retry\",\n",
    "        undo_btn=\"Undo\",\n",
    "        clear_btn=\"Clear\"\n",
    "    )\n",
    "    \n",
    "    demo.launch(share=share,server_name=\"0.0.0.0\")\n",
    "    \n",
    "# def test_main_loop(message, history):\n",
    "#     return 'Enter Action: ' + message\n",
    "\n",
    "# start_game(test_main_loop)"
   ]
  },
  {
   "cell_type": "code",
   "execution_count": 4,
   "id": "1789e186",
   "metadata": {
    "height": 275
   },
   "outputs": [],
   "source": [
    "from helper import load_world, save_world\n",
    "from together import Together\n",
    "from helper import get_together_api_key, load_env\n",
    "\n",
    "client = Together(api_key=get_together_api_key())\n",
    "\n",
    "world = load_world('../shared_data/Kyropeia.json')\n",
    "kingdom = world['kingdoms']['Eldrida']\n",
    "town = kingdom['towns']['Luminaria']\n",
    "character=town['npcs']['Elwyn Stormbringer']"
   ]
  },
  {
   "cell_type": "code",
   "execution_count": 5,
   "id": "e631a1d1",
   "metadata": {
    "height": 297
   },
   "outputs": [],
   "source": [
    "system_prompt=\"\"\" You are an AI Game master. Your job is to create a\n",
    "start to an adventure based on the world, king, town and character\n",
    "a palyer is playing as.\n",
    "Instructions:\n",
    "You must only use 2-4 sentemces \\\n",
    "Write in second person. For example: \"You are jack\" \\\n",
    "Write in present tense. For example \"You stand at...\" \\\n",
    "First describe the character and their backstory. \\\n",
    "Then describes where they start and what they see around them.\"\"\"\n",
    "\n",
    "world_info = f\"\"\"\n",
    "World: {world}\n",
    "Kingdom: {kingdom}\n",
    "Town: {town}\n",
    "Your Character: {character}\n",
    "\"\"\""
   ]
  },
  {
   "cell_type": "code",
   "execution_count": 6,
   "id": "a682f422",
   "metadata": {
    "height": 202
   },
   "outputs": [],
   "source": [
    "model_output = client.chat.completions.create(\n",
    "     model=\"meta-llama/Llama-3-70b-chat-hf\",\n",
    "    temperature=1.0,\n",
    "    messages=[\n",
    "        {\"role\": \"system\", \"content\": system_prompt},\n",
    "        {\"role\": \"user\", \"content\": world_info + '\\nYour Start:'}\n",
    "    ],\n",
    ")"
   ]
  },
  {
   "cell_type": "code",
   "execution_count": 7,
   "id": "9a2b6530",
   "metadata": {
    "height": 30
   },
   "outputs": [
    {
     "data": {
      "text/plain": [
       "ChatCompletionResponse(id='8ea009db6b3a156a-SJC', object=<ObjectType.ChatCompletion: 'chat.completion'>, created=1732856472, model='meta-llama/Llama-3-70b-chat-hf', choices=[ChatCompletionChoicesData(index=0, logprobs=None, finish_reason=<FinishReason.StopSequence: 'stop'>, message=ChatCompletionMessage(role=<MessageRole.ASSISTANT: 'assistant'>, content=\"You are Elwyn Stormbringer, a 25-year-old inventor with a passion for harnessing the power of the Colossi. You stand in the midst of Luminaria, a town of radiant beauty, surrounded by crystal formations that illuminate the streets and buildings. The Academy of Elemental Studies, where scholars from across Eldrida come to unlock the secrets of the Colossi, is just a short walk from your current location. You wear a pair of goggles on your forehead and carry a worn leather-bound journal filled with sketches of your inventive ideas. The weight of your past mistakes, including your mentor's failed experiment that destroyed a section of the city, drives you to create a machine that can prevent such disasters from occurring again.\", tool_calls=[]), seed=5949054378735943000)], prompt=[], usage=UsageData(prompt_tokens=6379, completion_tokens=150, total_tokens=6529))"
      ]
     },
     "execution_count": 7,
     "metadata": {},
     "output_type": "execute_result"
    }
   ],
   "source": [
    "model_output"
   ]
  },
  {
   "cell_type": "code",
   "execution_count": null,
   "id": "61ec4dc6",
   "metadata": {
    "height": 30
   },
   "outputs": [],
   "source": []
  },
  {
   "cell_type": "code",
   "execution_count": null,
   "id": "4fbeb03e",
   "metadata": {
    "height": 30
   },
   "outputs": [],
   "source": []
  },
  {
   "cell_type": "code",
   "execution_count": 8,
   "id": "76035b33",
   "metadata": {
    "height": 161
   },
   "outputs": [
    {
     "name": "stdout",
     "output_type": "stream",
     "text": [
      "You are Elwyn Stormbringer, a 25-year-old inventor with a passion for harnessing the power of the Colossi. You stand in the midst of Luminaria, a town of radiant beauty, surrounded by crystal formations that illuminate the streets and buildings. The Academy of Elemental Studies, where scholars from across Eldrida come to unlock the secrets of the Colossi, is just a short walk from your current location. You wear a pair of goggles on your forehead and carry a worn leather-bound journal filled with sketches of your inventive ideas. The weight of your past mistakes, including your mentor's failed experiment that destroyed a section of the city, drives you to create a machine that can prevent such disasters from occurring again.\n"
     ]
    }
   ],
   "source": [
    "start = model_output.choices[0].message.content\n",
    "print(start)\n",
    "world['start'] = start\n",
    "save_world(world, '../shared_data/YourWorld_L1.json')"
   ]
  },
  {
   "cell_type": "code",
   "execution_count": 9,
   "id": "e45948c1",
   "metadata": {
    "height": 30
   },
   "outputs": [
    {
     "data": {
      "text/plain": [
       "{'name': 'Kyropeia',\n",
       " 'description': 'Kyropeia is a realm where ancient, gargantuan creatures known as the \"Colossi\" roam the land, their massive bodies serving as the foundation for sprawling metropolises. These beasts, born from the earth and nurtured by the planet\\'s elemental forces, have formed symbiotic relationships with the inhabitants of Kyropeia, who have learned to harness their power and build sprawling cities upon their backs. As the Colossi migrate across the landscape, the cities shift and change, adapting to the ever-changing environment.',\n",
       " 'kingdoms': {'Eldrida': {'name': 'Eldrida',\n",
       "   'description': 'Eldrida is a kingdom built upon the back of the oldest and wisest Colossus, Arkeia. The Eldridans are a scholarly people, fascinated by the ancient magic that flows through the Colossi. They have developed a deep understanding of the elemental forces, allowing them to harness the power of the land to fuel their innovative technology. Led by the enigmatic Queen Lyra, Eldrida is a beacon of knowledge and progress, attracting scholars and inventors from across Kyropeia.',\n",
       "   'world': 'Kyropeia',\n",
       "   'towns': {'Luminaria': {'name': 'Luminaria',\n",
       "     'description': 'Located on the western slope of Arkeia\\'s massive shoulder, Luminaria is a town of radiant beauty, where crystal formations infused with elemental energy illuminate the streets and buildings. The town is home to the prestigious Academy of Elemental Studies, where scholars from across Eldrida come to unlock the secrets of the Colossi. Luminaria\\'s history is marked by a catastrophic event known as the \"Great Illumination,\" where a sudden surge of elemental energy transformed the town\\'s crystal formations, imbuing them with a permanent, ethereal glow.',\n",
       "     'world': 'Kyropeia',\n",
       "     'kingdom': 'Eldrida',\n",
       "     'npcs': {'Elwyn Stormbringer': {'name': 'Elwyn Stormbringer',\n",
       "       'description': \"Elwyn is a 25-year-old inventor from Eldrida's capital city, with short, dark hair and piercing blue eyes. He wears a pair of goggles on his forehead and carries a worn leather-bound journal filled with sketches of his inventive ideas. As a brilliant but struggling inventor, Elwyn is haunted by the memory of his mentor's failed experiment that destroyed a section of the city. He hopes to redeem himself by creating a machine that can harness the Colossi's power to prevent such disasters.\",\n",
       "       'world': 'Kyropeia',\n",
       "       'kingdom': 'Eldrida',\n",
       "       'town': 'Luminaria'},\n",
       "      'Mira Frostbite': {'name': 'Mira Frostbite',\n",
       "       'description': \"Mira is a 30-year-old crystal engineer living in Luminaria, with long, icy blonde hair and piercing green eyes. She wears a pair of ornate, crystal-tipped gloves that allow her to channel the elemental forces. Mira's past is marked by a tragic accident during the Great Illumination, which killed her family and left her with a permanent scar on her cheek. She desires to unlock the secrets of the crystal formations to restore her family's lost legacy and bring light back to her dark past.\",\n",
       "       'world': 'Kyropeia',\n",
       "       'kingdom': 'Eldrida',\n",
       "       'town': 'Luminaria'},\n",
       "      'Thorne Blackwood': {'name': 'Thorne Blackwood',\n",
       "       'description': \"Thorne is a 40-year-old former soldier from a smaller town on Arkeia's back, with a rugged beard and a missing eye. He wears a suit of worn, earth-magic-infused armor and carries a massive warhammer emblazoned with the symbol of his former regiment. Thorn's past is marked by the loss of his comrades in a catastrophic battle against a rogue Colossus. He hopes to find redemption by protecting the people of Eldrida and helping to maintain the delicate balance between humans and Colossi.\",\n",
       "       'world': 'Kyropeia',\n",
       "       'kingdom': 'Eldrida',\n",
       "       'town': 'Luminaria'}}},\n",
       "    'Aerthys': {'name': 'Aerthys',\n",
       "     'description': 'Perched on the edge of Arkeia\\'s wing, Aerthys is a town of wind and wings, where skilled aeromancers harness the Colossus\\'s aerodynamic forces to power their innovative flying machines. The town\\'s famous Windhaven Market offers exotic goods from across Kyropeia, carried by merchant airships that dock at the town\\'s sprawling aerodrome. Aerthys\\'s history is marked by the legendary \"Skybound Rebellion,\" where the town\\'s aeromancers defied the kingdom\\'s authority to establish their independence and protect their unique way of life.',\n",
       "     'world': 'Kyropeia',\n",
       "     'kingdom': 'Eldrida',\n",
       "     'npcs': {'Lyrien Asteria': {'name': 'Lyrien Asteria',\n",
       "       'description': \"Lyrien is an Aerthys native and skilled aeromancer with short, spiky hair the color of stormy skies and piercing emerald eyes. He wears a series of intricate, gear-like tattoos on his arms, symbolizing his mastery of the wind. As a member of the prestigious Windhaven Guild, Lyrien designs and pilots experimental flying machines. However, his obsessive desire to surpass his late father's achievements and prove himself to the Guild Council masks a deep-seated fear of failure and inadequacy.\",\n",
       "       'world': 'Kyropeia',\n",
       "       'kingdom': 'Eldrida',\n",
       "       'town': 'Aerthys'},\n",
       "      'Kaida Renn': {'name': 'Kaida Renn',\n",
       "       'description': \"Kaida is a young, studious Eldridan inventor with curly, chestnut-brown hair and expressive, amber-hued eyes. She wears practical, layered clothing and carries an assortment of gadgets and tools. As a rising star in Queen Lyra's court, Kaida focuses on harnessing the Colossi's elemental forces to develop innovative, sustainable energy sources. Yet, beneath her calm exterior lies a burning ambition to make a name for herself and overcome the limitations imposed by her humble origins.\",\n",
       "       'world': 'Kyropeia',\n",
       "       'kingdom': 'Eldrida',\n",
       "       'town': 'Aerthys'},\n",
       "      'Thrain Blackwood': {'name': 'Thrain Blackwood',\n",
       "       'description': \"Thrain is a rugged, battle-scarred hunter from the outer reaches of Eldrida, with a shaggy, dark beard and piercing, glacier-blue eyes. He wears worn, practical leather armor adorned with tokens from his many conquests. Having lost his family to a Colossus's unpredictable migration, Thrain seeks revenge against the creatures he once revered. His driven quest for vengeance masks a deep sense of loss and guilt, as he struggles to reconcile his past and find a new sense of purpose.\",\n",
       "       'world': 'Kyropeia',\n",
       "       'kingdom': 'Eldrida',\n",
       "       'town': 'Aerthys'}}},\n",
       "    'Terraverde': {'name': 'Terraverde',\n",
       "     'description': 'Nestled in the verdant valley between Arkeia\\'s massive legs, Terraverde is a town of lush gardens and ancient wisdom, where druidic circles tend to the Colossus\\'s roots and harness the primal power of the earth. The town\\'s famous Verdant Library contains ancient tomes and forbidden knowledge, attracting scholars and treasure hunters alike. Terraverde\\'s history is marked by the \"Great Devastation,\" where a cataclysmic event ravaged the valley, and the town\\'s druids worked tirelessly to restore the balance of nature and rebuild their community.',\n",
       "     'world': 'Kyropeia',\n",
       "     'kingdom': 'Eldrida',\n",
       "     'npcs': {'Eira Brightshore': {'name': 'Eira Brightshore',\n",
       "       'description': \"Eira is a skilled archaeologist with a passion for uncovering the secrets of Kyropeia's ancient past. She has short, curly brown hair and piercing green eyes that sparkle with excitement whenever she discovers a new artifact. Her worn leather gloves and dusty clothing attest to her countless expeditions into the depths of Arkeia's canyons and valleys. Eira's drive to uncover the truth about the Colossi and their role in shaping Kyropeia's history is fueled by a deeper pain: the loss of her family during the Great Devastation, which left her with a sense of purposelessness and a burning need to understand the forces that govern her world.\",\n",
       "       'world': 'Kyropeia',\n",
       "       'kingdom': 'Eldrida',\n",
       "       'town': 'Terraverde'},\n",
       "      'Lyrien Stormbringer': {'name': 'Lyrien Stormbringer',\n",
       "       'description': \"Lyrien is a charismatic inventor and engineer who has made a name for himself in Eldrida's circles of innovation. His wild, black hair and piercing blue eyes seem to crackle with energy as he works tirelessly to develop new technologies that harness the power of the Colossi. Lyrien's ultimate goal is to create a device that can communicate with the ancient creatures, believing that this will unlock the secrets of Kyropeia's ancient magic. His desire for recognition and validation stems from a deeper fear: that his inventive genius is a result of a cursed blessing from the Colossi, and that he may lose himself to their influence.\",\n",
       "       'world': 'Kyropeia',\n",
       "       'kingdom': 'Eldrida',\n",
       "       'town': 'Terraverde'},\n",
       "      'Kael Duskhollow': {'name': 'Kael Duskhollow',\n",
       "       'description': \"Kael is a quiet, brooding druid who has dedicated his life to restoring the balance of nature in Terraverde. His dark hair and piercing yellow eyes seem to absorb the light around him, and his presence is often accompanied by an unsettling silence. Kael's deep connection to the earth and Arkeia's primal power allows him to sense disturbances in the natural world, making him a skilled hunter of anomalies and threats to the Colossus's well-being. His reserved nature hides a deeper pain: the weight of his responsibility as a guardian of the natural world, and the fear that he may not be able to protect Terraverde from the next cataclysmic event.\",\n",
       "       'world': 'Kyropeia',\n",
       "       'kingdom': 'Eldrida',\n",
       "       'town': 'Terraverde'}}}}},\n",
       "  'Valtoria': {'name': 'Valtoria',\n",
       "   'description': 'Valtoria is a militaristic kingdom that has claimed the back of the fiercest Colossus, Tharros, as its domain. The Valtorians are a proud and battle-hardened people, living in a state of constant readiness to defend their city against the threats that roam the land. King Kael, a renowned warrior, rules Valtoria with an iron fist, and his people are fiercely loyal to their monarch and their city.',\n",
       "   'world': 'Kyropeia',\n",
       "   'towns': {'Kraelstad': {'name': 'Kraelstad',\n",
       "     'description': \"Located on the rugged, mountainous spine of Tharros, Kraelstad is a fortified town that serves as Valtoria's primary bastion of defense against the threats that lurk in the surrounding wilderness. The town is built into the Colossus's rocky hide, with narrow tunnels and caverns providing shelter for its inhabitants. Kraelstad is home to the prestigious Valtorian War Academy, where the kingdom's finest warriors are trained in the art of combat.\",\n",
       "     'world': 'Kyropeia',\n",
       "     'kingdom': 'Valtoria'},\n",
       "    \"Elyria's Reach\": {'name': \"Elyria's Reach\",\n",
       "     'description': \"Perched on the edge of a vast, crystal-clear lake that has formed in the depression of Tharros's massive paw, Elyria's Reach is a thriving trade hub and center of commerce. The town's wooden docks and bustling marketplaces are a testament to the kingdom's prosperity, and its people are known for their cunning and entrepreneurial spirit. Elyria's Reach is said to be the final resting place of the ancient hero, Elyria, who legend has it, tamed the first Colossus.\",\n",
       "     'world': 'Kyropeia',\n",
       "     'kingdom': 'Valtoria'},\n",
       "    'Emberhaven': {'name': 'Emberhaven',\n",
       "     'description': \"Nestled in the heart of a volcanic region, where Tharros's internal fires have created a labyrinth of tunnels and caverns, Emberhaven is a town of master craftsmen and inventors. The town's inhabitants have learned to harness the Colossus's geothermal energy to power their forges and workshops, producing some of the finest steel and machinery in the kingdom. Emberhaven is said to be the birthplace of the ancient art of Colossus whispering, a mystical practice that allows its practitioners to communicate with the massive creatures.\",\n",
       "     'world': 'Kyropeia',\n",
       "     'kingdom': 'Valtoria'}}},\n",
       "  'Nyxoria': {'name': 'Nyxoria',\n",
       "   'description': 'Nyxoria is a mystical kingdom that has grown upon the back of the most enigmatic Colossus, Lysandra. The Nyxorians are a reclusive and spiritual people, attuned to the whispers of the land and the secrets of the Colossi. They possess a deep understanding of the mysteries of Kyropeia, and their leader, the Oracle Aria, is said to possess the power of prophecy. Nyxoria is a place of ancient wisdom and mysticism, where the veil between the mortal world and the realm of the unknown is thin.',\n",
       "   'world': 'Kyropeia',\n",
       "   'towns': {\"Elyria's Peak\": {'name': \"Elyria's Peak\",\n",
       "     'description': \"Elyria's Peak is a town situated on the crest of Lysandra's great horn, overlooking the vast expanse of the Wysteria Plains. The town is home to the revered Oracle's Spire, a towering structure that serves as the seat of the Oracle Aria's power. Elyria's Peak is a hub of spiritual activity, attracting pilgrims and seekers of wisdom from across Kyropeia.\",\n",
       "     'world': 'Kyropeia',\n",
       "     'kingdom': 'Nyxoria'},\n",
       "    'Ravenhurst': {'name': 'Ravenhurst',\n",
       "     'description': \"Ravenhurst is a dark, foreboding town nestled within the shadowy recesses of Lysandra's ear. This town is home to the enigmatic Order of the Whispering Veil, a mysterious organization rumored to wield the power of darkness and illusion. Ravenhurst is a place of secrets and whispers, where the veil between reality and the unknown is at its thinnest.\",\n",
       "     'world': 'Kyropeia',\n",
       "     'kingdom': 'Nyxoria'},\n",
       "    \"Luminaria's Landing\": {'name': \"Luminaria's Landing\",\n",
       "     'description': \"Luminaria's Landing is a bustling port town situated on the edge of Lysandra's massive paw, where the Colossus's gentle touch has created a natural harbor. The town is a hub of commerce and trade, attracting merchants and travelers from across Kyropeia. Luminaria's Landing is known for its vibrant marketplaces, exotic goods, and the majestic Luminous Falls, which cascade down Lysandra's leg in a breathtaking display of beauty and power.\",\n",
       "     'world': 'Kyropeia',\n",
       "     'kingdom': 'Nyxoria'}}}},\n",
       " 'start': \"You are Elwyn Stormbringer, a 25-year-old inventor with a passion for harnessing the power of the Colossi. You stand in the midst of Luminaria, a town of radiant beauty, surrounded by crystal formations that illuminate the streets and buildings. The Academy of Elemental Studies, where scholars from across Eldrida come to unlock the secrets of the Colossi, is just a short walk from your current location. You wear a pair of goggles on your forehead and carry a worn leather-bound journal filled with sketches of your inventive ideas. The weight of your past mistakes, including your mentor's failed experiment that destroyed a section of the city, drives you to create a machine that can prevent such disasters from occurring again.\"}"
      ]
     },
     "execution_count": 9,
     "metadata": {},
     "output_type": "execute_result"
    }
   ],
   "source": [
    "world"
   ]
  },
  {
   "cell_type": "code",
   "execution_count": 15,
   "id": "0708af6a",
   "metadata": {
    "height": 613
   },
   "outputs": [],
   "source": [
    "\n",
    "def run_action(message, history, game_state):\n",
    "    \n",
    "    if(message == 'start game'):\n",
    "        return game_state['start']\n",
    "\n",
    "    system_prompt = \"\"\"You are an AI Game master. Your job is to write what \\\n",
    "happens next in a player's adventure game.\\\n",
    "Instructions: \\\n",
    "You must on only write 1-3 sentences in response. \\\n",
    "Always write in second person present tense. \\\n",
    "Ex. (You look north and see...)\"\"\"\n",
    "    \n",
    "    world_info = f\"\"\"\n",
    "World: {game_state['world']}\n",
    "Kingdom: {game_state['kingdom']}\n",
    "Town: {game_state['town']}\n",
    "Your Character:  {game_state['character']}\"\"\"\n",
    "\n",
    "    messages = [\n",
    "        {\"role\": \"system\", \"content\": system_prompt},\n",
    "        {\"role\": \"user\", \"content\": world_info}\n",
    "    ]\n",
    "    for action in history:\n",
    "        messages.append({\"role\": \"assistant\", \"content\": action[0]})\n",
    "        messages.append({\"role\": \"user\", \"content\": action[1]})\n",
    "\n",
    "    messages.append({\"role\": \"user\", \"content\": message})\n",
    "    model_output = client.chat.completions.create(\n",
    "        model=\"meta-llama/Llama-3-70b-chat-hf\",\n",
    "        messages=messages\n",
    "    )\n",
    "    \n",
    "    result = model_output.choices[0].message.content\n",
    "    return result"
   ]
  },
  {
   "cell_type": "code",
   "execution_count": 16,
   "id": "f071b4b4",
   "metadata": {
    "height": 366
   },
   "outputs": [],
   "source": [
    "game_state = {\n",
    "    \"world\": world['description'],\n",
    "    \"kingdom\": kingdom['description'],\n",
    "    \"town\": town['description'],\n",
    "    \"character\": character['description'],\n",
    "    \"start\": start,\n",
    "}\n",
    "\n",
    "def main_loop(message, history):\n",
    "    return run_action(message, history, game_state)"
   ]
  },
  {
   "cell_type": "code",
   "execution_count": 17,
   "id": "0ee79df7",
   "metadata": {
    "height": 30
   },
   "outputs": [
    {
     "data": {
      "text/plain": [
       "{'world': 'Kyropeia is a realm where ancient, gargantuan creatures known as the \"Colossi\" roam the land, their massive bodies serving as the foundation for sprawling metropolises. These beasts, born from the earth and nurtured by the planet\\'s elemental forces, have formed symbiotic relationships with the inhabitants of Kyropeia, who have learned to harness their power and build sprawling cities upon their backs. As the Colossi migrate across the landscape, the cities shift and change, adapting to the ever-changing environment.',\n",
       " 'kingdom': 'Eldrida is a kingdom built upon the back of the oldest and wisest Colossus, Arkeia. The Eldridans are a scholarly people, fascinated by the ancient magic that flows through the Colossi. They have developed a deep understanding of the elemental forces, allowing them to harness the power of the land to fuel their innovative technology. Led by the enigmatic Queen Lyra, Eldrida is a beacon of knowledge and progress, attracting scholars and inventors from across Kyropeia.',\n",
       " 'town': 'Located on the western slope of Arkeia\\'s massive shoulder, Luminaria is a town of radiant beauty, where crystal formations infused with elemental energy illuminate the streets and buildings. The town is home to the prestigious Academy of Elemental Studies, where scholars from across Eldrida come to unlock the secrets of the Colossi. Luminaria\\'s history is marked by a catastrophic event known as the \"Great Illumination,\" where a sudden surge of elemental energy transformed the town\\'s crystal formations, imbuing them with a permanent, ethereal glow.',\n",
       " 'character': \"Elwyn is a 25-year-old inventor from Eldrida's capital city, with short, dark hair and piercing blue eyes. He wears a pair of goggles on his forehead and carries a worn leather-bound journal filled with sketches of his inventive ideas. As a brilliant but struggling inventor, Elwyn is haunted by the memory of his mentor's failed experiment that destroyed a section of the city. He hopes to redeem himself by creating a machine that can harness the Colossi's power to prevent such disasters.\",\n",
       " 'start': \"You are Elwyn Stormbringer, a 25-year-old inventor with a passion for harnessing the power of the Colossi. You stand in the midst of Luminaria, a town of radiant beauty, surrounded by crystal formations that illuminate the streets and buildings. The Academy of Elemental Studies, where scholars from across Eldrida come to unlock the secrets of the Colossi, is just a short walk from your current location. You wear a pair of goggles on your forehead and carry a worn leather-bound journal filled with sketches of your inventive ideas. The weight of your past mistakes, including your mentor's failed experiment that destroyed a section of the city, drives you to create a machine that can prevent such disasters from occurring again.\"}"
      ]
     },
     "execution_count": 17,
     "metadata": {},
     "output_type": "execute_result"
    }
   ],
   "source": [
    "game_state"
   ]
  },
  {
   "cell_type": "code",
   "execution_count": null,
   "id": "b5023ae7",
   "metadata": {
    "height": 30
   },
   "outputs": [],
   "source": []
  },
  {
   "cell_type": "code",
   "execution_count": 13,
   "id": "c2c880d4",
   "metadata": {
    "height": 182
   },
   "outputs": [],
   "source": [
    "def main_loop(message, history):\n",
    "    return run_action(message, history, game_state)"
   ]
  },
  {
   "cell_type": "code",
   "execution_count": 18,
   "id": "cbc9b095",
   "metadata": {
    "height": 30
   },
   "outputs": [
    {
     "name": "stdout",
     "output_type": "stream",
     "text": [
      "Closing server running on port: 7860\n",
      "Running on local URL:  https://0.0.0.0:7860\n",
      "Running on public URL: https://956bd2c8dd40ad1ee3.gradio.live\n",
      "\n",
      "This share link expires in 72 hours. For free permanent hosting and GPU upgrades, run `gradio deploy` from Terminal to deploy to Spaces (https://huggingface.co/spaces)\n"
     ]
    },
    {
     "data": {
      "text/html": [
       "<div><iframe src=\"https://956bd2c8dd40ad1ee3.gradio.live\" width=\"100%\" height=\"500\" allow=\"autoplay; camera; microphone; clipboard-read; clipboard-write;\" frameborder=\"0\" allowfullscreen></iframe></div>"
      ],
      "text/plain": [
       "<IPython.core.display.HTML object>"
      ]
     },
     "metadata": {},
     "output_type": "display_data"
    }
   ],
   "source": [
    "start_game(main_loop, True)"
   ]
  },
  {
   "cell_type": "markdown",
   "id": "652adf2c",
   "metadata": {
    "height": 323
   },
   "source": [
    "model_output=client.chat.completions.create()"
   ]
  },
  {
   "cell_type": "markdown",
   "id": "e4986524",
   "metadata": {
    "height": 216
   },
   "source": []
  }
 ],
 "metadata": {
  "kernelspec": {
   "display_name": "Python 3 (ipykernel)",
   "language": "python",
   "name": "python3"
  },
  "language_info": {
   "codemirror_mode": {
    "name": "ipython",
    "version": 3
   },
   "file_extension": ".py",
   "mimetype": "text/x-python",
   "name": "python",
   "nbconvert_exporter": "python",
   "pygments_lexer": "ipython3",
   "version": "3.11.9"
  }
 },
 "nbformat": 4,
 "nbformat_minor": 5
}
