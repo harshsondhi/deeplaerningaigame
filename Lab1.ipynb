{
 "cells": [
  {
   "cell_type": "code",
   "execution_count": 1,
   "id": "2a82aeff",
   "metadata": {
    "height": 149
   },
   "outputs": [],
   "source": [
    "system_prompt = f\"\"\"\n",
    "Your job is to help create interesting fantasy worlds that \\\n",
    "players would love to play in.\n",
    "Instructions:\n",
    "- Only generate in plain text without formatting.\n",
    "- Use simple clear language without being flowery.\n",
    "- You must stay below 3-5 sentences for each description.\n",
    "\"\"\""
   ]
  },
  {
   "cell_type": "code",
   "execution_count": 2,
   "id": "1cacbcd9",
   "metadata": {
    "height": 166
   },
   "outputs": [],
   "source": [
    "world_prompt = f\"\"\"\n",
    "Generate a creative description for a unique fantasy world with an\n",
    "interesting concept around cities build on the backs of massive beasts.\n",
    "\n",
    "Output content in the form:\n",
    "World Name: <WORLD NAME>\n",
    "World Description: <WORLD DESCRIPTION>\n",
    "\n",
    "World Name:\"\"\""
   ]
  },
  {
   "cell_type": "code",
   "execution_count": 3,
   "id": "43e8b148",
   "metadata": {
    "height": 47
   },
   "outputs": [],
   "source": [
    "from together import Together\n",
    "from helper import get_together_api_key,load_env"
   ]
  },
  {
   "cell_type": "code",
   "execution_count": 4,
   "id": "78fc3565",
   "metadata": {
    "height": 30
   },
   "outputs": [],
   "source": [
    "client = Together(api_key=get_together_api_key())"
   ]
  },
  {
   "cell_type": "code",
   "execution_count": 5,
   "id": "f3a7e993",
   "metadata": {
    "height": 132
   },
   "outputs": [],
   "source": [
    "output = client.chat.completions.create(\n",
    "    model=\"meta-llama/Llama-3-70b-chat-hf\",\n",
    "    messages=[\n",
    "        {\"role\": \"system\", \"content\": system_prompt},\n",
    "        {\"role\": \"user\", \"content\": world_prompt}\n",
    "    ],\n",
    ")"
   ]
  },
  {
   "cell_type": "code",
   "execution_count": 6,
   "id": "9033bd1f",
   "metadata": {
    "height": 47
   },
   "outputs": [
    {
     "name": "stdout",
     "output_type": "stream",
     "text": [
      "World Name: Kyropeia\n",
      "\n",
      "World Description: Kyropeia is a realm where ancient, gargantuan creatures known as the \"Colossi\" roam the land, their massive bodies serving as the foundation for sprawling metropolises. These beasts, born from the earth and nurtured by the planet's elemental forces, have formed symbiotic relationships with the inhabitants of Kyropeia, who have learned to harness their power and build sprawling cities upon their backs. As the Colossi migrate across the landscape, the cities they carry adapt and evolve, fostering a unique culture of nomadic urbanization.\n"
     ]
    }
   ],
   "source": [
    "world_output = output.choices[0].message.content\n",
    "print(world_output)"
   ]
  },
  {
   "cell_type": "code",
   "execution_count": 7,
   "id": "06e48b91",
   "metadata": {
    "height": 30
   },
   "outputs": [],
   "source": [
    "world_output = world_output.strip()"
   ]
  },
  {
   "cell_type": "code",
   "execution_count": 8,
   "id": "da29221b",
   "metadata": {
    "height": 115
   },
   "outputs": [],
   "source": [
    "world = {\n",
    "    \"name\": world_output.split('\\n')[0].strip()\n",
    "    .replace('World Name: ', ''),\n",
    "    \"description\": '\\n'.join(world_output.split('\\n')[1:])\n",
    "    .replace('World Description:', '').strip()\n",
    "}"
   ]
  },
  {
   "cell_type": "code",
   "execution_count": 9,
   "id": "875badf7",
   "metadata": {
    "height": 285
   },
   "outputs": [],
   "source": [
    "kingdom_prompt = f\"\"\"\n",
    "Create 3 different kingdoms for a fantasy world.\n",
    "For each kingdom generate a description based on the world it's in. \\\n",
    "Describe important leaders, culture, history of the kingdom.\\\n",
    "\n",
    "Output content in the form:\n",
    "Kingdom 1 Name: <KINGDOM NAME>\n",
    "Kingdom 1 Description: <KINGDOM DESCRIPTION>\n",
    "Kingdom 2 Name: <KINGDOM NAME>\n",
    "Kingdom 2 Description: <KINGDOM DESCRIPTION>\n",
    "Kingdom 3 Name: <KINGDOM NAME>\n",
    "Kingdom 3 Description: <KINGDOM DESCRIPTION>\n",
    "\n",
    "World Name: {world['name']}\n",
    "World Description: {world['description']}\n",
    "Kingdom 1\"\"\""
   ]
  },
  {
   "cell_type": "code",
   "execution_count": 10,
   "id": "0f85c13c",
   "metadata": {
    "height": 132
   },
   "outputs": [],
   "source": [
    "output = client.chat.completions.create(\n",
    "    model=\"meta-llama/Llama-3-70b-chat-hf\",\n",
    "    messages=[\n",
    "        {\"role\": \"system\", \"content\": system_prompt},\n",
    "        {\"role\": \"user\", \"content\": kingdom_prompt}\n",
    "    ],\n",
    ")"
   ]
  },
  {
   "cell_type": "code",
   "execution_count": 11,
   "id": "b032b053",
   "metadata": {
    "height": 47
   },
   "outputs": [],
   "source": [
    "kingdoms={}\n",
    "kingdoms_output = output.choices[0].message.content"
   ]
  },
  {
   "cell_type": "code",
   "execution_count": 12,
   "id": "55cb9807",
   "metadata": {
    "height": 30
   },
   "outputs": [
    {
     "name": "stdout",
     "output_type": "stream",
     "text": [
      "Kingdom 1 Name: Aerthys\n",
      "Kingdom 1 Description: Aerthys is a kingdom built upon the back of the Colossus known as the \"Skystrider\", a majestic creature with wings as wide as a mountain range. The kingdom's capital, Elyria, is a marvel of engineering, with towering spires and grand arches that seem to defy gravity. Led by the wise and enigmatic Queen Lyra, Aerthys is a beacon of knowledge and innovation, attracting scholars and inventors from across Kyropeia. The kingdom's history is marked by a series of great discoveries, as its people have learned to harness the power of the wind and the sun to fuel their advancements.\n",
      "\n",
      "Kingdom 2 Name: Kyrios\n",
      "Kingdom 2 Description: Kyrios is a kingdom forged in the heart of the Colossus known as the \"Earthshaker\", a behemoth of unyielding strength and ferocity. The kingdom's capital, Kragnir, is a fortress city carved into the Colossus's rugged hide, its people a hardy and resilient folk who have learned to live in harmony with the land. Led by the fearless King Thrain, Kyrios is a bastion of martial prowess, its warriors renowned for their bravery and skill in battle. The kingdom's history is marked by a series of great conquests, as its people have expanded their dominion across the land.\n",
      "\n",
      "Kingdom 3 Name: Nyxoria\n",
      "Kingdom 3 Description: Nyxoria is a kingdom shrouded in mystery, built upon the back of the Colossus known as the \"Dreamwalker\", a creature of ethereal beauty and otherworldly power. The kingdom's capital, Luminaria, is a city of whispers and shadows, its people a reclusive and enigmatic folk who have learned to tap into the Dreamwalker's mystical energies. Led by the enigmatic Sorceress-Queen Xylara, Nyxoria is a realm of dark magic and ancient secrets, its history marked by a series of cryptic prophecies and forgotten lore.\n"
     ]
    }
   ],
   "source": [
    "print(kingdoms_output)"
   ]
  },
  {
   "cell_type": "code",
   "execution_count": 13,
   "id": "ea045c3c",
   "metadata": {
    "height": 285
   },
   "outputs": [
    {
     "name": "stdout",
     "output_type": "stream",
     "text": [
      "Created kingdom \"Aerthys\" in Kyropeia\n",
      "Created kingdom \"Kyrios\" in Kyropeia\n",
      "Created kingdom \"Nyxoria\" in Kyropeia\n",
      "\n",
      "Kingdom 1 Description: Nyxoria is a kingdom shrouded in mystery, built upon the back of the Colossus known as the \"Dreamwalker\", a creature of ethereal beauty and otherworldly power. The kingdom's capital, Luminaria, is a city of whispers and shadows, its people a reclusive and enigmatic folk who have learned to tap into the Dreamwalker's mystical energies. Led by the enigmatic Sorceress-Queen Xylara, Nyxoria is a realm of dark magic and ancient secrets, its history marked by a series of cryptic prophecies and forgotten lore.\n"
     ]
    }
   ],
   "source": [
    "for output in kingdoms_output.split('\\n\\n'):\n",
    "  kingdom_name = output.strip().split('\\n')[0] \\\n",
    "    .split('Name: ')[1].strip()\n",
    "  print(f'Created kingdom \"{kingdom_name}\" in {world[\"name\"]}')\n",
    "  kingdom_description = output.strip().split('\\n')[1] \\\n",
    "    .split('Description: ')[1].strip()\n",
    "  kingdom = {\n",
    "      \"name\": kingdom_name,\n",
    "      \"description\": kingdom_description,\n",
    "      \"world\": world['name']\n",
    "  }\n",
    "  kingdoms[kingdom_name] = kingdom\n",
    "world['kingdoms'] = kingdoms\n",
    "\n",
    "print(f'\\nKingdom 1 Description: \\\n",
    "{kingdom[\"description\"]}')"
   ]
  },
  {
   "cell_type": "code",
   "execution_count": 14,
   "id": "7498f55a",
   "metadata": {
    "height": 353
   },
   "outputs": [],
   "source": [
    "def get_town_prompt(world, kingdom):\n",
    "    return f\"\"\"\n",
    "    Create 3 different towns for a fantasy kingdom abd world. \\\n",
    "    Describe the region it's in, import places of the town, \\\n",
    "    and interesting history about it. \\\n",
    "    \n",
    "    output content in the form:\n",
    "    Town 1 Name: <TOWN NAME>\n",
    "    Town 1 Description: <TOWN DESCRIPTION> \n",
    "    Town 2 Name: <TOWN NAME>\n",
    "    Town 2 Description: <TOWN DESCRIPTION>  \n",
    "    Town 3 Name: <TOWN NAME>\n",
    "    Town 3 Description: <TOWN DESCRIPTION> \n",
    "    \n",
    "    World Name: {world['name']}\n",
    "    World Description: {world['description']}\n",
    "    \n",
    "    Kingdom Name: {kingdom['name']}\n",
    "    Kingdom Description {kingdom['description']}\n",
    "    Town 1 Name\"\"\""
   ]
  },
  {
   "cell_type": "code",
   "execution_count": 15,
   "id": "6e06a930",
   "metadata": {
    "height": 275
   },
   "outputs": [],
   "source": [
    "def create_towns(world, kingdom):\n",
    "    print(f'\\nCreating towns for kingdom: {kingdom[\"name\"]}...')\n",
    "    output = client.chat.completions.create(\n",
    "        model = \"meta-llama/Llama-3-70b-chat-hf\",\n",
    "        messages = [\n",
    "            {\"role\": \"system\", \"content\": system_prompt},\n",
    "            {\"role\": \"user\", \"content\": get_town_prompt(world, kingdom)}\n",
    "        ],\n",
    "    )\n",
    "    towns_output = output.choices[0].message.content\n",
    "    \n",
    "    towns = {}\n",
    "    for output in towns_output.split('\\n\\n'):\n",
    "        town_name = output.strip().split('\\n')[0]\\\n",
    "        .split('Name: ')[1].strip()\n",
    "        print(f'-{town_name } created')\n",
    "        \n",
    "        town_description = output.strip().split('\\n')[1]\\\n",
    "        .split('Description: ')[1].strip()\n",
    "        \n",
    "        town = {\n",
    "            \"name\": town_name,\n",
    "            \"description\": town_description,\n",
    "            \"world\": world['name'],\n",
    "            \"kingdom\": kingdom['name']\n",
    "        }\n",
    "        towns[town_name] = town\n",
    "        \n",
    "    kingdom[\"towns\"] = towns    \n",
    "    \n",
    "    \n",
    "    \n",
    "    \n",
    "    \n",
    "    \n",
    "    \n",
    "    \n",
    "    \n",
    "    \n",
    "    \n",
    "    \n",
    "    \n",
    "    \n",
    "    \n",
    "    \n",
    "    \n",
    "    \n",
    "    \n",
    "    \n",
    "    \n",
    "    \n",
    "    \n",
    "    "
   ]
  },
  {
   "cell_type": "code",
   "execution_count": 16,
   "id": "3950943a",
   "metadata": {
    "height": 115
   },
   "outputs": [
    {
     "name": "stdout",
     "output_type": "stream",
     "text": [
      "\n",
      "Creating towns for kingdom: Aerthys...\n",
      "-Zephyr's Reach created\n",
      "-Starhaven created\n",
      "-Windhollow created\n",
      "\n",
      "Creating towns for kingdom: Kyrios...\n",
      "-Brindlemark created\n",
      "-Skypoint created\n",
      "-Emberhaven created\n",
      "\n",
      "Creating towns for kingdom: Nyxoria...\n",
      "-Eldrida created\n",
      "-Ravenhurst created\n",
      "-Asteria created\n",
      "\n",
      "Town 1 Description: Eldrida is a coastal town situated on the western edge of Nyxoria, where the Dreamwalker's massive claws dip into the Sea of Whispers. The town is known for its bustling harbor, where fishermen and traders bring exotic goods from across the realm. Eldrida's architecture is a mix of sturdy stone buildings and intricately carved wooden docks, with the town's famous Lighthouse of the Ancients standing tall against the crashing waves. Legend has it that the lighthouse holds the secrets of the Dreamwalker's creation, and many a scholar and treasure hunter has attempted to uncover its mysteries.\n"
     ]
    }
   ],
   "source": [
    "for kingdom in kingdoms.values():\n",
    "    create_towns(world, kingdom)\n",
    "    \n",
    "town = list(kingdom['towns'].values())[0]    \n",
    "print(f'\\nTown 1 Description: \\\n",
    "{town[\"description\"]}')    "
   ]
  },
  {
   "cell_type": "code",
   "execution_count": 17,
   "id": "b3467544",
   "metadata": {
    "height": 190
   },
   "outputs": [],
   "source": [
    "def get_npc_prompt(world,kingdom,town):\n",
    "    return f\"\"\"\n",
    "    Create 3 different characters based on the world, kingdom \\\n",
    "    and town they are in, describe the character's apearanceand \\\n",
    "    profession, as as their deeper pains and desires.\\\n",
    "    \n",
    "    Output content in the form:\n",
    "    Character 1 Name: <CHARACTER NAME>\n",
    "    character 1 Description: <CHARACTER DESCRIPTION>\n",
    "    Character 2 Name: <CHARACTER NAME>\n",
    "    character 2 Description: <CHARACTER DESCRIPTION>\n",
    "    Character 3 Name: <CHARACTER NAME>\n",
    "    character 3 Description: <CHARACTER DESCRIPTION>\n",
    "    \n",
    "    World Name: {world['name']}\n",
    "    World description: {world['description']}\n",
    "    \n",
    "    Kingdom Name: {world['name']}\n",
    "    Kingdom description: {world['description']}\n",
    "    \n",
    "    Town Name: {world['name']}\n",
    "    Town description: {world['description']}\n",
    "    \n",
    "    Character 1 Name:\"\"\""
   ]
  },
  {
   "cell_type": "code",
   "execution_count": 18,
   "id": "ecf5f038",
   "metadata": {
    "height": 401
   },
   "outputs": [],
   "source": [
    "def create_npcs(world, kingdom, town):\n",
    "    print(f'\\nCreating characters for the town of: {town[\"name\"]}...')\n",
    "    output = client.chat.completions.create(\n",
    "        model=\"meta-llama/Llama-3-70b-chat-hf\",\n",
    "        messages=[\n",
    "            {\"role\": \"system\", \"content\": system_prompt},\n",
    "            {\"role\": \"user\", \"content\": get_npc_prompt(world, kingdom, town)}\n",
    "        ],\n",
    "        temperature=0 \n",
    "    )\n",
    "\n",
    "    npcs_output = output.choices[0].message.content\n",
    "    npcs = {}\n",
    "    for output in npcs_output.split('\\n\\n'):\n",
    "        npc_name = output.strip().split('\\n')[0]\\\n",
    "        .split('Name: ')[1].strip()\n",
    "        print(f'- \"{npc_name}\" created')\n",
    "        \n",
    "        npc_description = output.strip().split('\\n')[1\\\n",
    "        ].split('Description: ')[1].strip()\n",
    "        \n",
    "        npc = {\n",
    "        \"name\": npc_name,\n",
    "        \"description\": npc_description,\n",
    "        \"world\": world['name'],\n",
    "        \"kingdom\": kingdom['name'],\n",
    "        \"town\": town['name']\n",
    "        }\n",
    "        npcs[npc_name] = npc\n",
    "    town[\"npcs\"] = npcs\n",
    "    \n",
    "    \n",
    "    \n",
    "    "
   ]
  },
  {
   "cell_type": "code",
   "execution_count": 19,
   "id": "8d15a095",
   "metadata": {
    "height": 196
   },
   "outputs": [
    {
     "name": "stdout",
     "output_type": "stream",
     "text": [
      "\n",
      "Creating characters for the town of: Zephyr's Reach...\n",
      "- \"Kaelin Darkhaven\" created\n",
      "- \"Lyra Flynn\" created\n",
      "- \"Eira Shadowglow\" created\n",
      "\n",
      "Creating characters for the town of: Starhaven...\n",
      "- \"Kaelin Darkhaven\" created\n",
      "- \"Lyra Flynn\" created\n",
      "- \"Eira Shadowglow\" created\n",
      "\n",
      "Creating characters for the town of: Windhollow...\n",
      "- \"Kaelin Darkhaven\" created\n",
      "- \"Lyra Flynn\" created\n",
      "- \"Eira Shadowglow\" created\n"
     ]
    }
   ],
   "source": [
    "for kingdom in kingdoms.values():\n",
    "    for town in kingdom['towns'].values():\n",
    "        create_npcs(world, kingdom, town)\n",
    "  # For now we'll only generate npcs for one kingdom\n",
    "    break"
   ]
  },
  {
   "cell_type": "code",
   "execution_count": 20,
   "id": "0597c28f",
   "metadata": {
    "height": 141
   },
   "outputs": [
    {
     "name": "stdout",
     "output_type": "stream",
     "text": [
      "\n",
      "NPC 1 in Windhollow, Aerthys:\n",
      "Kaelin is a 25-year-old Colossi Rider, with short, spiky black hair and piercing blue eyes. He wears a worn leather jacket and carries a pair of worn gauntlets, adorned with small, intricate mechanisms that allow him to harness the power of the Colossi. As a skilled Rider, Kaelin has formed a deep bond with his Colossus, Arkeia, but struggles with the weight of responsibility and the fear of losing control of the ancient beast. He desires to prove himself as a worthy Rider and protect the people of Kyropeia from the threats that lurk beyond the city's walls.\n"
     ]
    }
   ],
   "source": [
    "npc = list(town['npcs'].values())[0]\n",
    "\n",
    "print(f'\\nNPC 1 in {town[\"name\"]}, \\\n",
    "{kingdom[\"name\"]}:\\n{npc[\"description\"]}')"
   ]
  },
  {
   "cell_type": "code",
   "execution_count": 22,
   "id": "a51940b0",
   "metadata": {
    "height": 193
   },
   "outputs": [],
   "source": [
    "import json\n",
    "\n",
    "def save_world(world, filename):\n",
    "    with open(filename, 'w') as f:\n",
    "        json.dump(world, f)\n",
    "\n",
    "def load_world(filename):\n",
    "    with open(filename, 'r') as f:\n",
    "        return json.load(f)\n",
    "\n",
    "#save_world(world, '../shared_data/Kyropeia.json')\n",
    "save_world(world, '../shared_data/YourWorld_L1.json') #save to your version"
   ]
  },
  {
   "cell_type": "code",
   "execution_count": null,
   "id": "653688cc",
   "metadata": {
    "height": 30
   },
   "outputs": [],
   "source": []
  }
 ],
 "metadata": {
  "kernelspec": {
   "display_name": "Python 3 (ipykernel)",
   "language": "python",
   "name": "python3"
  },
  "language_info": {
   "codemirror_mode": {
    "name": "ipython",
    "version": 3
   },
   "file_extension": ".py",
   "mimetype": "text/x-python",
   "name": "python",
   "nbconvert_exporter": "python",
   "pygments_lexer": "ipython3",
   "version": "3.11.9"
  }
 },
 "nbformat": 4,
 "nbformat_minor": 5
}
