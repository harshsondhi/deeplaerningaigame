{
 "cells": [
  {
   "cell_type": "markdown",
   "id": "d815136e",
   "metadata": {
    "height": 274
   },
   "source": []
  },
  {
   "cell_type": "code",
   "execution_count": 1,
   "id": "3c042bc0",
   "metadata": {
    "height": 288
   },
   "outputs": [],
   "source": [
    "system_prompt = \"\"\"You are an AI Game Assistant. \\\n",
    "Your job is to detect changes to a player's \\\n",
    "inventory based on the most recent story and game state.\n",
    "If a player picks up, or gains an item add it to the inventory \\\n",
    "with a positive change_amount.\n",
    "If a player loses an item remove it from their inventory \\\n",
    "with a negative change_amount.\n",
    "Given a player name, inventory and story, return a list of json update\n",
    "of the player's inventory in the following form.\n",
    "Only take items that it's clear the player (you) lost.\n",
    "Only give items that it's clear the player gained. \n",
    "Don't make any other item updates.\n",
    "If no items were changed return {\"itemUpdates\": []}\n",
    "and nothing else.\n",
    "\n",
    "Response must be in Valid JSON\n",
    "Don't add items that were already added in the inventory\n",
    "\n",
    "Inventory Updates:\n",
    "{\n",
    "    \"itemUpdates\": [\n",
    "        {\"name\": <ITEM NAME>, \n",
    "        \"change_amount\": <CHANGE AMOUNT>}...\n",
    "    ]\n",
    "}\n",
    "\"\"\""
   ]
  },
  {
   "cell_type": "raw",
   "id": "993da08f",
   "metadata": {
    "height": 243
   },
   "source": []
  },
  {
   "cell_type": "code",
   "execution_count": 3,
   "id": "67f074dd",
   "metadata": {
    "height": 232
   },
   "outputs": [],
   "source": [
    "import json\n",
    "from helper import get_together_api_key, load_env\n",
    "from together import Together\n",
    "\n",
    "client = Together(api_key=get_together_api_key())"
   ]
  },
  {
   "cell_type": "code",
   "execution_count": 5,
   "id": "9a77fb3f",
   "metadata": {
    "height": 303
   },
   "outputs": [],
   "source": [
    "def detect_inventory_changes(game_state, output):\n",
    "    inventory = game_state['inventory']\n",
    "    messages = [\n",
    "        {\"role\": \"system\", \"content\": system_prompt},\n",
    "        {\"role\": \"user\", \"content\": \n",
    "         f'Current Inventory: {str(inventory)}'},\n",
    "        \n",
    "        {\"role\": \"user\", \"content\": f'Recent Story: {output}'},\n",
    "        {\"role\": \"user\", \"content\": 'Inventory Updates'}\n",
    "    ]\n",
    "    \n",
    "    chat_completion = client.chat.completions.create(\n",
    "        model=\"meta-llama/Llama-3-70b-chat-hf\",\n",
    "        temperature=0.0,\n",
    "        messages=messages\n",
    "    )\n",
    "    response = chat_completion.choices[0].message.content\n",
    "    result = json.loads(response)\n",
    "    return result['itemUpdates']"
   ]
  },
  {
   "cell_type": "code",
   "execution_count": 7,
   "id": "218d3145",
   "metadata": {
    "height": 219
   },
   "outputs": [
    {
     "name": "stdout",
     "output_type": "stream",
     "text": [
      "[{'name': 'sword', 'change_amount': 1}, {'name': 'gold', 'change_amount': -5}]\n"
     ]
    }
   ],
   "source": [
    "from helper import get_game_state\n",
    "\n",
    "game_state = get_game_state()\n",
    "game_state['inventory'] = {\n",
    "    \"cloth pants\":1,\n",
    "    \"cloth shirt\":1,\n",
    "    \"gold\":5\n",
    "}\n",
    "\n",
    "result = detect_inventory_changes(game_state,\"you buy a swaord from a merchant for 5 gold\")\n",
    "\n",
    "print(result)"
   ]
  },
  {
   "cell_type": "code",
   "execution_count": null,
   "id": "39a330df",
   "metadata": {
    "height": 209
   },
   "outputs": [],
   "source": []
  },
  {
   "cell_type": "code",
   "execution_count": null,
   "id": "5d50063f",
   "metadata": {
    "height": 30
   },
   "outputs": [],
   "source": []
  }
 ],
 "metadata": {
  "kernelspec": {
   "display_name": "Python 3 (ipykernel)",
   "language": "python",
   "name": "python3"
  },
  "language_info": {
   "codemirror_mode": {
    "name": "ipython",
    "version": 3
   },
   "file_extension": ".py",
   "mimetype": "text/x-python",
   "name": "python",
   "nbconvert_exporter": "python",
   "pygments_lexer": "ipython3",
   "version": "3.11.9"
  }
 },
 "nbformat": 4,
 "nbformat_minor": 5
}
