{
 "cells": [
  {
   "cell_type": "code",
   "execution_count": 1,
   "id": "2a82aeff",
   "metadata": {
    "height": 149
   },
   "outputs": [],
   "source": [
    "system_prompt = f\"\"\"\n",
    "Your job is to help create interesting fantasy worlds that \\\n",
    "players would love to play in.\n",
    "Instructions:\n",
    "- Only generate in plain text without formatting.\n",
    "- Use simple clear language without being flowery.\n",
    "- You must stay below 3-5 sentences for each description.\n",
    "\"\"\""
   ]
  },
  {
   "cell_type": "code",
   "execution_count": 2,
   "id": "1cacbcd9",
   "metadata": {
    "height": 166
   },
   "outputs": [],
   "source": [
    "world_prompt = f\"\"\"\n",
    "Generate a creative description for a unique fantasy world with an\n",
    "interesting concept around cities build on the backs of massive beasts.\n",
    "\n",
    "Output content in the form:\n",
    "World Name: <WORLD NAME>\n",
    "World Description: <WORLD DESCRIPTION>\n",
    "\n",
    "World Name:\"\"\""
   ]
  },
  {
   "cell_type": "code",
   "execution_count": 3,
   "id": "43e8b148",
   "metadata": {
    "height": 47
   },
   "outputs": [],
   "source": [
    "from together import Together\n",
    "from helper import get_together_api_key,load_env"
   ]
  },
  {
   "cell_type": "code",
   "execution_count": 4,
   "id": "78fc3565",
   "metadata": {
    "height": 30
   },
   "outputs": [],
   "source": [
    "client = Together(api_key=get_together_api_key())"
   ]
  },
  {
   "cell_type": "code",
   "execution_count": 8,
   "id": "f3a7e993",
   "metadata": {
    "height": 132
   },
   "outputs": [],
   "source": [
    "output = client.chat.completions.create(\n",
    "    model=\"meta-llama/Llama-3-70b-chat-hf\",\n",
    "    messages=[\n",
    "        {\"role\": \"system\", \"content\": system_prompt},\n",
    "        {\"role\": \"user\", \"content\": world_prompt}\n",
    "    ],\n",
    ")"
   ]
  },
  {
   "cell_type": "code",
   "execution_count": 9,
   "id": "9033bd1f",
   "metadata": {
    "height": 47
   },
   "outputs": [
    {
     "name": "stdout",
     "output_type": "stream",
     "text": [
      "World Name: Kyropeia\n",
      "\n",
      "World Description: Kyropeia is a realm where ancient, gargantuan creatures known as the \"Colossi\" roam the land, their massive bodies serving as the foundation for sprawling metropolises. These beasts, born from the earth and nurtured by the planet's elemental forces, have formed symbiotic relationships with the inhabitants of Kyropeia, who have learned to harness their power and build sprawling cities upon their backs. As the Colossi migrate across the landscape, the cities they carry adapt and evolve, fostering a unique culture of nomadic urbanization.\n"
     ]
    }
   ],
   "source": [
    "world_output = output.choices[0].message.content\n",
    "print(world_output)"
   ]
  },
  {
   "cell_type": "code",
   "execution_count": 10,
   "id": "06e48b91",
   "metadata": {
    "height": 30
   },
   "outputs": [],
   "source": [
    "world_output = world_output.strip()"
   ]
  },
  {
   "cell_type": "code",
   "execution_count": 11,
   "id": "da29221b",
   "metadata": {
    "height": 115
   },
   "outputs": [],
   "source": [
    "world = {\n",
    "    \"name\": world_output.split('\\n')[0].strip()\n",
    "    .replace('World Name: ', ''),\n",
    "    \"description\": '\\n'.join(world_output.split('\\n')[1:])\n",
    "    .replace('World Description:', '').strip()\n",
    "}"
   ]
  },
  {
   "cell_type": "code",
   "execution_count": 12,
   "id": "875badf7",
   "metadata": {
    "height": 285
   },
   "outputs": [],
   "source": [
    "kingdom_prompt = f\"\"\"\n",
    "Create 3 different kingdoms for a fantasy world.\n",
    "For each kingdom generate a description based on the world it's in. \\\n",
    "Describe important leaders, culture, history of the kingdom.\\\n",
    "\n",
    "Output content in the form:\n",
    "Kingdom 1 Name: <KINGDOM NAME>\n",
    "Kingdom 1 Description: <KINGDOM DESCRIPTION>\n",
    "Kingdom 2 Name: <KINGDOM NAME>\n",
    "Kingdom 2 Description: <KINGDOM DESCRIPTION>\n",
    "Kingdom 3 Name: <KINGDOM NAME>\n",
    "Kingdom 3 Description: <KINGDOM DESCRIPTION>\n",
    "\n",
    "World Name: {world['name']}\n",
    "World Description: {world['description']}\n",
    "Kingdom 1\"\"\""
   ]
  },
  {
   "cell_type": "code",
   "execution_count": 13,
   "id": "0f85c13c",
   "metadata": {
    "height": 132
   },
   "outputs": [],
   "source": [
    "output = client.chat.completions.create(\n",
    "    model=\"meta-llama/Llama-3-70b-chat-hf\",\n",
    "    messages=[\n",
    "        {\"role\": \"system\", \"content\": system_prompt},\n",
    "        {\"role\": \"user\", \"content\": kingdom_prompt}\n",
    "    ],\n",
    ")"
   ]
  },
  {
   "cell_type": "code",
   "execution_count": 14,
   "id": "b032b053",
   "metadata": {
    "height": 47
   },
   "outputs": [],
   "source": [
    "kingdoms={}\n",
    "kingdoms_output = output.choices[0].message.content"
   ]
  },
  {
   "cell_type": "code",
   "execution_count": 15,
   "id": "55cb9807",
   "metadata": {
    "height": 30
   },
   "outputs": [
    {
     "name": "stdout",
     "output_type": "stream",
     "text": [
      "Kingdom 1 Name: Aerthys\n",
      "Kingdom 1 Description: Aerthys is a kingdom built upon the back of the Colossus known as the \"Skystrider\", a majestic creature with wings as wide as a mountain range. The kingdom's capital, Elyria, is a marvel of engineering, with towering spires and grand arches that seem to defy gravity. Led by the wise and enigmatic Queen Lyra, Aerthys is a beacon of knowledge and innovation, attracting scholars and inventors from across Kyropeia. The kingdom's history is marked by a series of great discoveries, as its people have learned to harness the power of the wind and the sun to fuel their advancements.\n",
      "\n",
      "Kingdom 2 Name: Kyrios\n",
      "Kingdom 2 Description: Kyrios is a kingdom forged in the heart of the Colossus known as the \"Earthshaker\", a behemoth of unyielding strength and ferocity. The kingdom's capital, Kragnir, is a fortress city carved into the Colossus's rugged hide, its people a hardy and resilient folk who have learned to live in harmony with the land. Led by the fearless King Thrain, Kyrios is a bastion of martial prowess, its warriors renowned for their bravery and skill in battle. The kingdom's history is marked by a series of great conquests, as its people have expanded their dominion across the land.\n",
      "\n",
      "Kingdom 3 Name: Nyxoria\n",
      "Kingdom 3 Description: Nyxoria is a kingdom shrouded in mystery, built upon the back of the Colossus known as the \"Dreamwalker\", a creature of ethereal beauty and otherworldly power. The kingdom's capital, Luminaria, is a city of whispers and shadows, its people a reclusive and enigmatic folk who have learned to tap into the Dreamwalker's mystical energies. Led by the enigmatic Sorceress-Queen Xylara, Nyxoria is a realm of dark magic and ancient secrets, its history marked by a series of cryptic prophecies and forgotten lore.\n"
     ]
    }
   ],
   "source": [
    "print(kingdoms_output)"
   ]
  },
  {
   "cell_type": "code",
   "execution_count": 18,
   "id": "ea045c3c",
   "metadata": {
    "height": 285
   },
   "outputs": [
    {
     "name": "stdout",
     "output_type": "stream",
     "text": [
      "Created kingdom \"Aerthys\" in Kyropeia\n",
      "Created kingdom \"Kyrios\" in Kyropeia\n",
      "Created kingdom \"Nyxoria\" in Kyropeia\n",
      "\n",
      "Kingdom 1 Description: Nyxoria is a kingdom shrouded in mystery, built upon the back of the Colossus known as the \"Dreamwalker\", a creature of ethereal beauty and otherworldly power. The kingdom's capital, Luminaria, is a city of whispers and shadows, its people a reclusive and enigmatic folk who have learned to tap into the Dreamwalker's mystical energies. Led by the enigmatic Sorceress-Queen Xylara, Nyxoria is a realm of dark magic and ancient secrets, its history marked by a series of cryptic prophecies and forgotten lore.\n"
     ]
    }
   ],
   "source": [
    "for output in kingdoms_output.split('\\n\\n'):\n",
    "  kingdom_name = output.strip().split('\\n')[0] \\\n",
    "    .split('Name: ')[1].strip()\n",
    "  print(f'Created kingdom \"{kingdom_name}\" in {world[\"name\"]}')\n",
    "  kingdom_description = output.strip().split('\\n')[1] \\\n",
    "    .split('Description: ')[1].strip()\n",
    "  kingdom = {\n",
    "      \"name\": kingdom_name,\n",
    "      \"description\": kingdom_description,\n",
    "      \"world\": world['name']\n",
    "  }\n",
    "  kingdoms[kingdom_name] = kingdom\n",
    "world['kingdoms'] = kingdoms\n",
    "\n",
    "print(f'\\nKingdom 1 Description: \\\n",
    "{kingdom[\"description\"]}')"
   ]
  },
  {
   "cell_type": "code",
   "execution_count": 19,
   "id": "7498f55a",
   "metadata": {
    "height": 353
   },
   "outputs": [],
   "source": [
    "def get_town_prompt(world, kingdom):\n",
    "    return f\"\"\"\n",
    "    Create 3 different towns for a fantasy kingdom abd world. \\\n",
    "    Describe the region it's in, import places of the town, \\\n",
    "    and interesting history about it. \\\n",
    "    \n",
    "    output content in the form:\n",
    "    Town 1 Name: <TOWN NAME>\n",
    "    Town 1 Description: <TOWN DESCRIPTION> \n",
    "    Town 2 Name: <TOWN NAME>\n",
    "    Town 2 Description: <TOWN DESCRIPTION>  \n",
    "    Town 3 Name: <TOWN NAME>\n",
    "    Town 3 Description: <TOWN DESCRIPTION> \n",
    "    \n",
    "    World Name: {world['name']}\n",
    "    World Description: {world['description']}\n",
    "    \n",
    "    Kingdom Name: {kingdom['name']}\n",
    "    Kingdom Description {kingdom['description']}\n",
    "    Town 1 Name\"\"\""
   ]
  },
  {
   "cell_type": "code",
   "execution_count": null,
   "id": "6e06a930",
   "metadata": {
    "height": 30
   },
   "outputs": [],
   "source": []
  }
 ],
 "metadata": {
  "kernelspec": {
   "display_name": "Python 3 (ipykernel)",
   "language": "python",
   "name": "python3"
  },
  "language_info": {
   "codemirror_mode": {
    "name": "ipython",
    "version": 3
   },
   "file_extension": ".py",
   "mimetype": "text/x-python",
   "name": "python",
   "nbconvert_exporter": "python",
   "pygments_lexer": "ipython3",
   "version": "3.11.9"
  }
 },
 "nbformat": 4,
 "nbformat_minor": 5
}
